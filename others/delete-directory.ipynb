{
 "cells": [
  {
   "cell_type": "code",
   "execution_count": null,
   "id": "18946405",
   "metadata": {},
   "outputs": [],
   "source": [
    "import shutil\n",
    "\n",
    "# Paths to delete\n",
    "output_dir = '/home/jovyan/temp'\n",
    "checkpoint_dir = '/home/jovyan/spark-checkpoint'\n",
    "\n",
    "# Delete output directory\n",
    "shutil.rmtree(output_dir, ignore_errors=True)\n",
    "print(f\"Deleted output directory: {output_dir}\")\n",
    "\n",
    "# Delete checkpoint directory\n",
    "shutil.rmtree(checkpoint_dir, ignore_errors=True)\n",
    "print(f\"Deleted checkpoint directory: {checkpoint_dir}\")"
   ]
  }
 ],
 "metadata": {
  "language_info": {
   "name": "python"
  }
 },
 "nbformat": 4,
 "nbformat_minor": 5
}
